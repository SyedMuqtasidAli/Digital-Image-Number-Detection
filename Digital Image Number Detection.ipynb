{
 "cells": [
  {
   "cell_type": "code",
   "execution_count": 1,
   "id": "d74fb94a",
   "metadata": {},
   "outputs": [],
   "source": [
    "import keras\n",
    "from keras.datasets import mnist\n",
    "from keras.utils import to_categorical\n",
    "import numpy as np\n",
    "from PIL import Image\n",
    "import matplotlib.pyplot as plt"
   ]
  },
  {
   "cell_type": "code",
   "execution_count": 2,
   "id": "877e256e",
   "metadata": {},
   "outputs": [],
   "source": [
    "(train_images, train_labels), (test_images, test_labels) = mnist.load_data()"
   ]
  },
  {
   "cell_type": "code",
   "execution_count": 3,
   "id": "4edd2b24",
   "metadata": {},
   "outputs": [
    {
     "data": {
      "text/plain": [
       "(60000, 28, 28)"
      ]
     },
     "execution_count": 3,
     "metadata": {},
     "output_type": "execute_result"
    }
   ],
   "source": [
    "train_images.shape"
   ]
  },
  {
   "cell_type": "code",
   "execution_count": 4,
   "id": "7b3d39c8",
   "metadata": {},
   "outputs": [
    {
     "data": {
      "text/plain": [
       "60000"
      ]
     },
     "execution_count": 4,
     "metadata": {},
     "output_type": "execute_result"
    }
   ],
   "source": [
    "len(train_labels)"
   ]
  },
  {
   "cell_type": "code",
   "execution_count": 5,
   "id": "64596236",
   "metadata": {},
   "outputs": [
    {
     "data": {
      "text/plain": [
       "array([5, 0, 4, ..., 5, 6, 8], dtype=uint8)"
      ]
     },
     "execution_count": 5,
     "metadata": {},
     "output_type": "execute_result"
    }
   ],
   "source": [
    "train_labels"
   ]
  },
  {
   "cell_type": "code",
   "execution_count": 6,
   "id": "ccf8f026",
   "metadata": {},
   "outputs": [
    {
     "data": {
      "text/plain": [
       "(10000, 28, 28)"
      ]
     },
     "execution_count": 6,
     "metadata": {},
     "output_type": "execute_result"
    }
   ],
   "source": [
    "test_images.shape"
   ]
  },
  {
   "cell_type": "code",
   "execution_count": 7,
   "id": "a8794d28",
   "metadata": {},
   "outputs": [
    {
     "data": {
      "text/plain": [
       "10000"
      ]
     },
     "execution_count": 7,
     "metadata": {},
     "output_type": "execute_result"
    }
   ],
   "source": [
    "len(test_labels)"
   ]
  },
  {
   "cell_type": "code",
   "execution_count": 8,
   "id": "f087376a",
   "metadata": {},
   "outputs": [
    {
     "data": {
      "text/plain": [
       "array([7, 2, 1, ..., 4, 5, 6], dtype=uint8)"
      ]
     },
     "execution_count": 8,
     "metadata": {},
     "output_type": "execute_result"
    }
   ],
   "source": [
    "test_labels"
   ]
  },
  {
   "cell_type": "code",
   "execution_count": 9,
   "id": "9b18283f",
   "metadata": {},
   "outputs": [],
   "source": [
    "# Step 1: Data Preprocessing (Machine Readable Form)\n",
    "# Scaling - One Unit Standard Deviation for Numeric Columns\n",
    "# Fundamental requirement of Deep Learning Networks\n",
    "train_images = train_images.reshape((60000, 28 * 28))\n",
    "train_images = train_images.astype('float32') / 255\n",
    "test_images = test_images.reshape((10000, 28 * 28))\n",
    "test_images = test_images.astype('float32') / 255"
   ]
  },
  {
   "cell_type": "code",
   "execution_count": 10,
   "id": "bdc27c35",
   "metadata": {},
   "outputs": [],
   "source": [
    "# Step 1: Data Preprocessing (Machine Readable Form)\n",
    "# OneHot Coding for Categorical Data\n",
    "train_labels = to_categorical(train_labels)\n",
    "test_labels = to_categorical(test_labels)"
   ]
  },
  {
   "cell_type": "code",
   "execution_count": 11,
   "id": "c21a6747",
   "metadata": {},
   "outputs": [],
   "source": [
    "# Step 2: Build your Network\n",
    "from keras import models\n",
    "from keras import layers\n",
    "network = models.Sequential()\n",
    "network.add(layers.Dense(512, activation='relu', input_shape=(28 * 28,)))\n",
    "network.add(layers.Dense(10, activation='softmax'))"
   ]
  },
  {
   "cell_type": "code",
   "execution_count": 12,
   "id": "b67fca8b",
   "metadata": {},
   "outputs": [],
   "source": [
    "# Step 3: Compile your Network\n",
    "network.compile(optimizer='rmsprop',\n",
    "loss='categorical_crossentropy',\n",
    "metrics=['accuracy'])"
   ]
  },
  {
   "cell_type": "code",
   "execution_count": 13,
   "id": "3be17794",
   "metadata": {},
   "outputs": [
    {
     "name": "stdout",
     "output_type": "stream",
     "text": [
      "Epoch 1/5\n",
      "469/469 [==============================] - 6s 12ms/step - loss: 0.2538 - accuracy: 0.9270\n",
      "Epoch 2/5\n",
      "469/469 [==============================] - 6s 12ms/step - loss: 0.1037 - accuracy: 0.9693\n",
      "Epoch 3/5\n",
      "469/469 [==============================] - 6s 12ms/step - loss: 0.0686 - accuracy: 0.9788\n",
      "Epoch 4/5\n",
      "469/469 [==============================] - 5s 11ms/step - loss: 0.0506 - accuracy: 0.9848\n",
      "Epoch 5/5\n",
      "469/469 [==============================] - 6s 12ms/step - loss: 0.0366 - accuracy: 0.9889\n"
     ]
    },
    {
     "data": {
      "text/plain": [
       "<tensorflow.python.keras.callbacks.History at 0x1c9715f9af0>"
      ]
     },
     "execution_count": 13,
     "metadata": {},
     "output_type": "execute_result"
    }
   ],
   "source": [
    "# Step 4: Training / Learning your Network\n",
    "network.fit(train_images,\n",
    "train_labels,\n",
    "epochs=5,\n",
    "batch_size=128)"
   ]
  },
  {
   "cell_type": "code",
   "execution_count": 14,
   "id": "5325930c",
   "metadata": {},
   "outputs": [
    {
     "name": "stdout",
     "output_type": "stream",
     "text": [
      "313/313 [==============================] - 1s 3ms/step - loss: 0.0680 - accuracy: 0.9808\n",
      "test_acc: 0.9807999730110168\n"
     ]
    }
   ],
   "source": [
    "# Step 5: Performance Evaluation - Test Dataset\n",
    "# Unseen (Not included in Training Dataset)\n",
    "test_loss, test_acc = network.evaluate(test_images, test_labels)\n",
    "print('test_acc:', test_acc)"
   ]
  },
  {
   "cell_type": "code",
   "execution_count": 17,
   "id": "8aba322d",
   "metadata": {},
   "outputs": [
    {
     "data": {
      "text/plain": [
       "array([[9.99999881e-01, 4.71274461e-14, 7.64168888e-08, 5.72673964e-10,\n",
       "        2.58457996e-13, 1.33678815e-11, 3.27957927e-08, 1.67812386e-09,\n",
       "        2.73782691e-10, 8.52715942e-09]], dtype=float32)"
      ]
     },
     "execution_count": 17,
     "metadata": {},
     "output_type": "execute_result"
    }
   ],
   "source": [
    "# Step 6: Prediction in Action - New Handwritten Digit - image 28*28\n",
    "from keras.preprocessing.image import load_img\n",
    "from keras.preprocessing.image import img_to_array\n",
    "import warnings\n",
    "# load the image via load_img function\n",
    "img = load_img('E:/7th Semester/Deep Learning & Application/digit0.jpeg', color_mode='grayscale')\n",
    "# convert the given image into numpy array\n",
    "NewImage = img_to_array(img)\n",
    "# convert the given image into numpy array and scalling\n",
    "NewImage = NewImage.reshape((1, 28 * 28))\n",
    "NewImage = NewImage.astype('float32') / 255\n",
    "# Prediction (Label / Answer / Output from the Network)\n",
    "Prediction = network.predict(NewImage)\n",
    "Prediction"
   ]
  },
  {
   "cell_type": "code",
   "execution_count": 18,
   "id": "34e3e9a3",
   "metadata": {},
   "outputs": [
    {
     "data": {
      "text/plain": [
       "'Zero'"
      ]
     },
     "execution_count": 18,
     "metadata": {},
     "output_type": "execute_result"
    }
   ],
   "source": [
    "# Output from the List of the Probability, Find out Maximum\n",
    "class_names = ['Zero','One', 'Two', 'Three', 'Four', 'Five',\n",
    "'Six', 'Seven', 'Eight', 'Nine']\n",
    "PredictedDigit = class_names[np.argmax(Prediction)]\n",
    "PredictedDigit"
   ]
  },
  {
   "cell_type": "code",
   "execution_count": 19,
   "id": "350e4f14",
   "metadata": {},
   "outputs": [],
   "source": [
    "# Save Model use in FUTURE Use\n",
    "network.save('HandDigitRecorgnitionModel.h5')"
   ]
  },
  {
   "cell_type": "code",
   "execution_count": null,
   "id": "82729ec8",
   "metadata": {},
   "outputs": [],
   "source": []
  }
 ],
 "metadata": {
  "kernelspec": {
   "display_name": "Python 3 (ipykernel)",
   "language": "python",
   "name": "python3"
  },
  "language_info": {
   "codemirror_mode": {
    "name": "ipython",
    "version": 3
   },
   "file_extension": ".py",
   "mimetype": "text/x-python",
   "name": "python",
   "nbconvert_exporter": "python",
   "pygments_lexer": "ipython3",
   "version": "3.8.16"
  }
 },
 "nbformat": 4,
 "nbformat_minor": 5
}
